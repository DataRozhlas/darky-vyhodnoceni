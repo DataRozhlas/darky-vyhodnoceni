{
 "cells": [
  {
   "cell_type": "markdown",
   "id": "21feff1a",
   "metadata": {},
   "source": [
    "Otázky, na které jsme slíbili odpověď:\n",
    "- měkkouš x tvrdouš\n",
    "- věc x poukaz\n",
    "- hotovost\n",
    "- alkohol\n",
    "\n",
    "Stojí za zmínku:\n",
    "- gendery\n",
    "- věky\n",
    "- vyhrává kniha, ale poukaz do knihkupectví > kniha"
   ]
  },
  {
   "cell_type": "markdown",
   "id": "b87a662f",
   "metadata": {},
   "source": [
    "míň než 25 let\n",
    "\n",
    "25 - 40\n",
    "\n",
    "41 - 65\n",
    "\n",
    "přes 65 let"
   ]
  },
  {
   "cell_type": "markdown",
   "id": "11b1a158",
   "metadata": {},
   "source": [
    "## Příprava"
   ]
  },
  {
   "cell_type": "code",
   "execution_count": 1,
   "id": "b40742f6",
   "metadata": {},
   "outputs": [],
   "source": [
    "import pandas as pd"
   ]
  },
  {
   "cell_type": "code",
   "execution_count": 2,
   "id": "ef1f9ca5",
   "metadata": {},
   "outputs": [],
   "source": [
    "df = pd.read_csv(\"geodarek.csv\")"
   ]
  },
  {
   "cell_type": "code",
   "execution_count": 3,
   "id": "63048a12",
   "metadata": {},
   "outputs": [
    {
     "data": {
      "text/html": [
       "<div>\n",
       "<style scoped>\n",
       "    .dataframe tbody tr th:only-of-type {\n",
       "        vertical-align: middle;\n",
       "    }\n",
       "\n",
       "    .dataframe tbody tr th {\n",
       "        vertical-align: top;\n",
       "    }\n",
       "\n",
       "    .dataframe thead th {\n",
       "        text-align: right;\n",
       "    }\n",
       "</style>\n",
       "<table border=\"1\" class=\"dataframe\">\n",
       "  <thead>\n",
       "    <tr style=\"text-align: right;\">\n",
       "      <th></th>\n",
       "      <th>uid</th>\n",
       "      <th>loserID</th>\n",
       "      <th>winnerID</th>\n",
       "      <th>age</th>\n",
       "      <th>sex</th>\n",
       "      <th>country</th>\n",
       "      <th>region</th>\n",
       "      <th>regionName</th>\n",
       "      <th>city</th>\n",
       "      <th>zip</th>\n",
       "    </tr>\n",
       "  </thead>\n",
       "  <tbody>\n",
       "    <tr>\n",
       "      <th>0</th>\n",
       "      <td>1.702390e+12</td>\n",
       "      <td>21</td>\n",
       "      <td>12</td>\n",
       "      <td>all</td>\n",
       "      <td>all</td>\n",
       "      <td>Czechia</td>\n",
       "      <td>10.0</td>\n",
       "      <td>Hlavní město Praha</td>\n",
       "      <td>Prague</td>\n",
       "      <td>130 00</td>\n",
       "    </tr>\n",
       "    <tr>\n",
       "      <th>1</th>\n",
       "      <td>1.702390e+12</td>\n",
       "      <td>9</td>\n",
       "      <td>7</td>\n",
       "      <td>all</td>\n",
       "      <td>all</td>\n",
       "      <td>Czechia</td>\n",
       "      <td>10.0</td>\n",
       "      <td>Hlavní město Praha</td>\n",
       "      <td>Prague</td>\n",
       "      <td>130 00</td>\n",
       "    </tr>\n",
       "    <tr>\n",
       "      <th>2</th>\n",
       "      <td>1.702390e+12</td>\n",
       "      <td>5</td>\n",
       "      <td>25</td>\n",
       "      <td>all</td>\n",
       "      <td>all</td>\n",
       "      <td>Czechia</td>\n",
       "      <td>10.0</td>\n",
       "      <td>Hlavní město Praha</td>\n",
       "      <td>Prague</td>\n",
       "      <td>130 00</td>\n",
       "    </tr>\n",
       "    <tr>\n",
       "      <th>3</th>\n",
       "      <td>1.702390e+12</td>\n",
       "      <td>30</td>\n",
       "      <td>24</td>\n",
       "      <td>all</td>\n",
       "      <td>all</td>\n",
       "      <td>Czechia</td>\n",
       "      <td>10.0</td>\n",
       "      <td>Hlavní město Praha</td>\n",
       "      <td>Prague</td>\n",
       "      <td>130 00</td>\n",
       "    </tr>\n",
       "    <tr>\n",
       "      <th>4</th>\n",
       "      <td>1.702390e+12</td>\n",
       "      <td>10</td>\n",
       "      <td>12</td>\n",
       "      <td>all</td>\n",
       "      <td>all</td>\n",
       "      <td>Czechia</td>\n",
       "      <td>10.0</td>\n",
       "      <td>Hlavní město Praha</td>\n",
       "      <td>Prague</td>\n",
       "      <td>130 00</td>\n",
       "    </tr>\n",
       "    <tr>\n",
       "      <th>...</th>\n",
       "      <td>...</td>\n",
       "      <td>...</td>\n",
       "      <td>...</td>\n",
       "      <td>...</td>\n",
       "      <td>...</td>\n",
       "      <td>...</td>\n",
       "      <td>...</td>\n",
       "      <td>...</td>\n",
       "      <td>...</td>\n",
       "      <td>...</td>\n",
       "    </tr>\n",
       "    <tr>\n",
       "      <th>270115</th>\n",
       "      <td>1.702641e+12</td>\n",
       "      <td>2</td>\n",
       "      <td>35</td>\n",
       "      <td>a3</td>\n",
       "      <td>m</td>\n",
       "      <td>Czechia</td>\n",
       "      <td>10.0</td>\n",
       "      <td>Hlavní město Praha</td>\n",
       "      <td>Prague</td>\n",
       "      <td>110 00</td>\n",
       "    </tr>\n",
       "    <tr>\n",
       "      <th>270116</th>\n",
       "      <td>1.702641e+12</td>\n",
       "      <td>3</td>\n",
       "      <td>27</td>\n",
       "      <td>a3</td>\n",
       "      <td>m</td>\n",
       "      <td>Czechia</td>\n",
       "      <td>10.0</td>\n",
       "      <td>Hlavní město Praha</td>\n",
       "      <td>Prague</td>\n",
       "      <td>110 00</td>\n",
       "    </tr>\n",
       "    <tr>\n",
       "      <th>270117</th>\n",
       "      <td>1.702641e+12</td>\n",
       "      <td>2</td>\n",
       "      <td>7</td>\n",
       "      <td>a3</td>\n",
       "      <td>m</td>\n",
       "      <td>Czechia</td>\n",
       "      <td>10.0</td>\n",
       "      <td>Hlavní město Praha</td>\n",
       "      <td>Prague</td>\n",
       "      <td>110 00</td>\n",
       "    </tr>\n",
       "    <tr>\n",
       "      <th>270118</th>\n",
       "      <td>1.702641e+12</td>\n",
       "      <td>0</td>\n",
       "      <td>20</td>\n",
       "      <td>a3</td>\n",
       "      <td>m</td>\n",
       "      <td>Czechia</td>\n",
       "      <td>10.0</td>\n",
       "      <td>Hlavní město Praha</td>\n",
       "      <td>Prague</td>\n",
       "      <td>110 00</td>\n",
       "    </tr>\n",
       "    <tr>\n",
       "      <th>270119</th>\n",
       "      <td>1.702641e+12</td>\n",
       "      <td>13</td>\n",
       "      <td>8</td>\n",
       "      <td>a3</td>\n",
       "      <td>m</td>\n",
       "      <td>Czechia</td>\n",
       "      <td>10.0</td>\n",
       "      <td>Hlavní město Praha</td>\n",
       "      <td>Prague</td>\n",
       "      <td>110 00</td>\n",
       "    </tr>\n",
       "  </tbody>\n",
       "</table>\n",
       "<p>270120 rows × 10 columns</p>\n",
       "</div>"
      ],
      "text/plain": [
       "                 uid  loserID  winnerID  age  sex  country  region  \\\n",
       "0       1.702390e+12       21        12  all  all  Czechia    10.0   \n",
       "1       1.702390e+12        9         7  all  all  Czechia    10.0   \n",
       "2       1.702390e+12        5        25  all  all  Czechia    10.0   \n",
       "3       1.702390e+12       30        24  all  all  Czechia    10.0   \n",
       "4       1.702390e+12       10        12  all  all  Czechia    10.0   \n",
       "...              ...      ...       ...  ...  ...      ...     ...   \n",
       "270115  1.702641e+12        2        35   a3    m  Czechia    10.0   \n",
       "270116  1.702641e+12        3        27   a3    m  Czechia    10.0   \n",
       "270117  1.702641e+12        2         7   a3    m  Czechia    10.0   \n",
       "270118  1.702641e+12        0        20   a3    m  Czechia    10.0   \n",
       "270119  1.702641e+12       13         8   a3    m  Czechia    10.0   \n",
       "\n",
       "                regionName    city     zip  \n",
       "0       Hlavní město Praha  Prague  130 00  \n",
       "1       Hlavní město Praha  Prague  130 00  \n",
       "2       Hlavní město Praha  Prague  130 00  \n",
       "3       Hlavní město Praha  Prague  130 00  \n",
       "4       Hlavní město Praha  Prague  130 00  \n",
       "...                    ...     ...     ...  \n",
       "270115  Hlavní město Praha  Prague  110 00  \n",
       "270116  Hlavní město Praha  Prague  110 00  \n",
       "270117  Hlavní město Praha  Prague  110 00  \n",
       "270118  Hlavní město Praha  Prague  110 00  \n",
       "270119  Hlavní město Praha  Prague  110 00  \n",
       "\n",
       "[270120 rows x 10 columns]"
      ]
     },
     "execution_count": 3,
     "metadata": {},
     "output_type": "execute_result"
    }
   ],
   "source": [
    "df"
   ]
  },
  {
   "cell_type": "code",
   "execution_count": 4,
   "id": "f38cddd9",
   "metadata": {},
   "outputs": [],
   "source": [
    "darky = pd.read_json(\"darky.json\")"
   ]
  },
  {
   "cell_type": "code",
   "execution_count": 5,
   "id": "9028148d",
   "metadata": {},
   "outputs": [],
   "source": [
    "df = df.merge(darky[['id','name','key']].rename(columns = {'id': 'winnerID', 'name': 'winnerName', 'key': 'winnerKey'}), on='winnerID')"
   ]
  },
  {
   "cell_type": "code",
   "execution_count": 6,
   "id": "74e9865e",
   "metadata": {},
   "outputs": [],
   "source": [
    "df = df.merge(darky[['id','name','key']].rename(columns = {'id': 'loserID', 'name': 'loserName', 'key': 'loserKey'}), on='loserID')"
   ]
  },
  {
   "cell_type": "code",
   "execution_count": 7,
   "id": "fd425c6a",
   "metadata": {},
   "outputs": [
    {
     "data": {
      "text/plain": [
       "36"
      ]
     },
     "execution_count": 7,
     "metadata": {},
     "output_type": "execute_result"
    }
   ],
   "source": [
    "n = len(darky)\n",
    "n"
   ]
  },
  {
   "cell_type": "markdown",
   "id": "9c2b7091",
   "metadata": {},
   "source": [
    "## Rychlá explorace"
   ]
  },
  {
   "cell_type": "code",
   "execution_count": 8,
   "id": "3c51df0d",
   "metadata": {},
   "outputs": [],
   "source": [
    "pomery = df.groupby(\"winnerName\").size() / (df.groupby(\"loserName\").size() + df.groupby(\"winnerName\").size())"
   ]
  },
  {
   "cell_type": "code",
   "execution_count": 9,
   "id": "6a66662f",
   "metadata": {},
   "outputs": [
    {
     "data": {
      "text/plain": [
       "winnerName\n",
       "Kniha                                                               0.738163\n",
       "Poukaz do knihkupectví                                              0.706290\n",
       "Poukaz na divadelní představení dle vlastního výběru                0.697503\n",
       "Vstupenka na konkrétní divadelní představení                        0.642929\n",
       "Deskovka                                                            0.634905\n",
       "Drobnost, kterou jste v poslední době ztratili (nožík, termoska)    0.633722\n",
       "Obálka s hotovostí                                                  0.631675\n",
       "Poukaz do kina                                                      0.602238\n",
       "Kvalitní káva                                                       0.586070\n",
       "Poukaz na profesionální masáž                                       0.584896\n",
       "Poukaz na návštěvu památky v okolí                                  0.567846\n",
       "Poukaz na jízdu vlakem                                              0.555800\n",
       "Ponožky                                                             0.528525\n",
       "Svetr                                                               0.525662\n",
       "Předplatné streamovací platformy                                    0.504983\n",
       "Poukaz do sauny                                                     0.500631\n",
       "Lahev vína                                                          0.489838\n",
       "Pánvička nebo kastrůlek                                             0.487626\n",
       "Poukázka do řetězce s oblečením                                     0.486699\n",
       "Několik piv z malých pivovarů                                       0.485162\n",
       "Powerbanka                                                          0.481326\n",
       "Šála                                                                0.465858\n",
       "Sada šroubovacích bitů nebo podobná kutilská drobnost               0.460154\n",
       "Čokoláda nebo bonboniéra                                            0.458552\n",
       "Čelovka                                                             0.456680\n",
       "Kalendář s fotografiemi vašich blízkých                             0.455436\n",
       "Dárkový balíček kosmetiky                                           0.443464\n",
       "Poukaz na lekce jógy                                                0.419872\n",
       "Náhrdelník nebo jiný šperk                                          0.416566\n",
       "Předplatné časopisu                                                 0.405213\n",
       "Humorné tričko                                                      0.405213\n",
       "Poukaz do supermarketu                                              0.396824\n",
       "Poukaz do fitka                                                     0.346121\n",
       "Kapesní diář na rok 2024                                            0.308379\n",
       "Strojek pro mokré holení                                            0.275576\n",
       "Štěně                                                               0.212853\n",
       "dtype: float64"
      ]
     },
     "execution_count": 9,
     "metadata": {},
     "output_type": "execute_result"
    }
   ],
   "source": [
    "pomery.nlargest(n)"
   ]
  },
  {
   "cell_type": "code",
   "execution_count": 10,
   "id": "19cba116",
   "metadata": {},
   "outputs": [
    {
     "data": {
      "text/plain": [
       "regionName\n",
       "Hlavní město Praha      140475\n",
       "Jihomoravský kraj        35834\n",
       "Středočeský kraj         13014\n",
       "Moravskoslezský kraj     10140\n",
       "Jihočeský kraj            8404\n",
       "Královéhradecký kraj      8277\n",
       "Olomoucký kraj            7067\n",
       "Kraj Vysočina             5751\n",
       "Pardubický kraj           5533\n",
       "Zlínský kraj              5367\n",
       "Plzeňská kraj             4334\n",
       "Liberecký kraj            3848\n",
       "Ústecký kraj              3075\n",
       "Karlovarský kraj          1390\n",
       "Bavaria                   1317\n",
       "England                   1170\n",
       "Hesse                      980\n",
       "Vienna                     940\n",
       "Leinster                   913\n",
       "North Holland              511\n",
       "dtype: int64"
      ]
     },
     "execution_count": 10,
     "metadata": {},
     "output_type": "execute_result"
    }
   ],
   "source": [
    "df.groupby(\"regionName\").size().nlargest(20)"
   ]
  },
  {
   "cell_type": "code",
   "execution_count": 11,
   "id": "6c8c6643",
   "metadata": {},
   "outputs": [
    {
     "data": {
      "text/plain": [
       "country\n",
       "Czechia            252509\n",
       "Germany              3613\n",
       "United States        1849\n",
       "Austria              1484\n",
       "The Netherlands      1347\n",
       "United Kingdom       1188\n",
       "Ireland               913\n",
       "Sweden                599\n",
       "Belgium               509\n",
       "Denmark               441\n",
       "Malaysia              429\n",
       "France                428\n",
       "Australia             386\n",
       "Finland               385\n",
       "Italy                 378\n",
       "Slovakia              362\n",
       "Luxembourg            323\n",
       "Spain                 306\n",
       "Hungary               294\n",
       "Poland                286\n",
       "dtype: int64"
      ]
     },
     "execution_count": 11,
     "metadata": {},
     "output_type": "execute_result"
    }
   ],
   "source": [
    "df.groupby(\"country\").size().nlargest(20)"
   ]
  },
  {
   "cell_type": "markdown",
   "id": "454ceef0",
   "metadata": {},
   "source": [
    "## Podle genderu"
   ]
  },
  {
   "cell_type": "code",
   "execution_count": 12,
   "id": "4035fff1",
   "metadata": {},
   "outputs": [
    {
     "data": {
      "text/plain": [
       "winnerName\n",
       "Kniha                                                               0.724460\n",
       "Deskovka                                                            0.686152\n",
       "Poukaz do knihkupectví                                              0.676955\n",
       "Poukaz na divadelní představení dle vlastního výběru                0.670276\n",
       "Drobnost, kterou jste v poslední době ztratili (nožík, termoska)    0.652712\n",
       "Obálka s hotovostí                                                  0.652649\n",
       "Vstupenka na konkrétní divadelní představení                        0.634133\n",
       "Sada šroubovacích bitů nebo podobná kutilská drobnost               0.600258\n",
       "Poukaz do kina                                                      0.590452\n",
       "Několik piv z malých pivovarů                                       0.581489\n",
       "Kvalitní káva                                                       0.577257\n",
       "Poukaz na jízdu vlakem                                              0.563144\n",
       "Poukaz na profesionální masáž                                       0.560460\n",
       "Poukaz na návštěvu památky v okolí                                  0.542386\n",
       "Ponožky                                                             0.537888\n",
       "Svetr                                                               0.530380\n",
       "Poukaz do sauny                                                     0.520059\n",
       "Předplatné streamovací platformy                                    0.511768\n",
       "Lahev vína                                                          0.508173\n",
       "Pánvička nebo kastrůlek                                             0.504483\n",
       "Powerbanka                                                          0.503017\n",
       "Čelovka                                                             0.500464\n",
       "Poukázka do řetězce s oblečením                                     0.474982\n",
       "Šála                                                                0.464000\n",
       "Předplatné časopisu                                                 0.447364\n",
       "Humorné tričko                                                      0.447364\n",
       "Kalendář s fotografiemi vašich blízkých                             0.432533\n",
       "Čokoláda nebo bonboniéra                                            0.428332\n",
       "Dárkový balíček kosmetiky                                           0.415122\n",
       "Poukaz do supermarketu                                              0.396324\n",
       "Poukaz do fitka                                                     0.343642\n",
       "Poukaz na lekce jógy                                                0.316020\n",
       "Strojek pro mokré holení                                            0.307419\n",
       "Kapesní diář na rok 2024                                            0.277463\n",
       "Náhrdelník nebo jiný šperk                                          0.250879\n",
       "Štěně                                                               0.172193\n",
       "dtype: float64"
      ]
     },
     "execution_count": 12,
     "metadata": {},
     "output_type": "execute_result"
    }
   ],
   "source": [
    "(df[df['sex'] == 'm'].groupby(\"winnerName\").size() / (df[df['sex'] == 'm'].groupby(\"loserName\").size() + df[df['sex'] == 'm'].groupby(\"winnerName\").size())).nlargest(n)"
   ]
  },
  {
   "cell_type": "code",
   "execution_count": 13,
   "id": "8f93fc80",
   "metadata": {},
   "outputs": [
    {
     "data": {
      "text/plain": [
       "winnerName\n",
       "Kniha                                                               0.774535\n",
       "Poukaz do knihkupectví                                              0.758129\n",
       "Poukaz na divadelní představení dle vlastního výběru                0.739031\n",
       "Vstupenka na konkrétní divadelní představení                        0.664755\n",
       "Obálka s hotovostí                                                  0.636965\n",
       "Poukaz na profesionální masáž                                       0.636285\n",
       "Drobnost, kterou jste v poslední době ztratili (nožík, termoska)    0.630021\n",
       "Poukaz do kina                                                      0.623644\n",
       "Deskovka                                                            0.620837\n",
       "Náhrdelník nebo jiný šperk                                          0.603018\n",
       "Poukaz na návštěvu památky v okolí                                  0.597792\n",
       "Kvalitní káva                                                       0.594207\n",
       "Poukaz na jízdu vlakem                                              0.536508\n",
       "Svetr                                                               0.527340\n",
       "Poukaz na lekce jógy                                                0.523143\n",
       "Ponožky                                                             0.521739\n",
       "Předplatné streamovací platformy                                    0.513041\n",
       "Poukázka do řetězce s oblečením                                     0.505333\n",
       "Čokoláda nebo bonboniéra                                            0.486401\n",
       "Dárkový balíček kosmetiky                                           0.483165\n",
       "Pánvička nebo kastrůlek                                             0.477233\n",
       "Poukaz do sauny                                                     0.469307\n",
       "Powerbanka                                                          0.462536\n",
       "Lahev vína                                                          0.461043\n",
       "Šála                                                                0.456155\n",
       "Kalendář s fotografiemi vašich blízkých                             0.454417\n",
       "Poukaz do supermarketu                                              0.411534\n",
       "Čelovka                                                             0.400056\n",
       "Několik piv z malých pivovarů                                       0.354388\n",
       "Předplatné časopisu                                                 0.342037\n",
       "Humorné tričko                                                      0.342037\n",
       "Poukaz do fitka                                                     0.327395\n",
       "Kapesní diář na rok 2024                                            0.314691\n",
       "Sada šroubovacích bitů nebo podobná kutilská drobnost               0.309879\n",
       "Štěně                                                               0.229321\n",
       "Strojek pro mokré holení                                            0.217650\n",
       "dtype: float64"
      ]
     },
     "execution_count": 13,
     "metadata": {},
     "output_type": "execute_result"
    }
   ],
   "source": [
    "(df[df['sex'] == 'f'].groupby(\"winnerName\").size() / (df[df['sex'] == 'f'].groupby(\"loserName\").size() + df[df['sex'] == 'f'].groupby(\"winnerName\").size())).nlargest(n)"
   ]
  },
  {
   "cell_type": "code",
   "execution_count": 14,
   "id": "280cee4f",
   "metadata": {},
   "outputs": [],
   "source": [
    "zeny = df[df['sex'] == 'f'].groupby(\"winnerName\").size() / df[df['sex'] == 'f'].groupby(\"loserName\").size()"
   ]
  },
  {
   "cell_type": "code",
   "execution_count": 15,
   "id": "756195a1",
   "metadata": {},
   "outputs": [],
   "source": [
    "muzi = df[df['sex'] == 'm'].groupby(\"winnerName\").size() / df[df['sex'] == 'm'].groupby(\"loserName\").size()"
   ]
  },
  {
   "cell_type": "code",
   "execution_count": 16,
   "id": "3831bc21",
   "metadata": {},
   "outputs": [],
   "source": [
    "genderovy_pomer = zeny / muzi"
   ]
  },
  {
   "cell_type": "code",
   "execution_count": 17,
   "id": "178a0493",
   "metadata": {},
   "outputs": [
    {
     "data": {
      "text/plain": [
       "winnerName\n",
       "Náhrdelník nebo jiný šperk                                          4.535718\n",
       "Poukaz na lekce jógy                                                2.374433\n",
       "Poukaz do knihkupectví                                              1.495761\n",
       "Štěně                                                               1.430491\n",
       "Poukaz na divadelní představení dle vlastního výběru                1.393058\n",
       "Poukaz na profesionální masáž                                       1.371974\n",
       "Dárkový balíček kosmetiky                                           1.317144\n",
       "Kniha                                                               1.306569\n",
       "Čokoláda nebo bonboniéra                                            1.263962\n",
       "Poukaz na návštěvu památky v okolí                                  1.253982\n",
       "Kapesní diář na rok 2024                                            1.195787\n",
       "Poukaz do kina                                                      1.149362\n",
       "Vstupenka na konkrétní divadelní představení                        1.144042\n",
       "Poukázka do řetězce s oblečením                                     1.129177\n",
       "Kalendář s fotografiemi vašich blízkých                             1.092734\n",
       "Kvalitní káva                                                       1.072360\n",
       "Poukaz do supermarketu                                              1.065219\n",
       "Předplatné streamovací platformy                                    1.005108\n",
       "Svetr                                                               0.987873\n",
       "Šála                                                                0.968911\n",
       "Ponožky                                                             0.937224\n",
       "Obálka s hotovostí                                                  0.933803\n",
       "Poukaz do fitka                                                     0.929707\n",
       "Drobnost, kterou jste v poslední době ztratili (nožík, termoska)    0.906035\n",
       "Poukaz na jízdu vlakem                                              0.897950\n",
       "Pánvička nebo kastrůlek                                             0.896675\n",
       "Powerbanka                                                          0.850266\n",
       "Lahev vína                                                          0.827918\n",
       "Poukaz do sauny                                                     0.816110\n",
       "Deskovka                                                            0.748947\n",
       "Čelovka                                                             0.665584\n",
       "Předplatné časopisu                                                 0.642169\n",
       "Humorné tričko                                                      0.642169\n",
       "Strojek pro mokré holení                                            0.626757\n",
       "Několik piv z malých pivovarů                                       0.395069\n",
       "Sada šroubovacích bitů nebo podobná kutilská drobnost               0.299027\n",
       "dtype: float64"
      ]
     },
     "execution_count": 17,
     "metadata": {},
     "output_type": "execute_result"
    }
   ],
   "source": [
    "genderovy_pomer.nlargest(n)"
   ]
  },
  {
   "cell_type": "markdown",
   "id": "342612f6",
   "metadata": {},
   "source": [
    "## Podle věku"
   ]
  },
  {
   "cell_type": "code",
   "execution_count": 18,
   "id": "e6e3e841",
   "metadata": {},
   "outputs": [],
   "source": [
    "stari_mladi = df[(df['age'] == 'a1') | (df['age'] == 'a2')].groupby(\"winnerName\").size() / df[(df['age'] == 'a3') | (df['age'] == 'a4')].groupby(\"winnerName\").size()"
   ]
  },
  {
   "cell_type": "code",
   "execution_count": 19,
   "id": "86f6b9a2",
   "metadata": {},
   "outputs": [
    {
     "data": {
      "text/plain": [
       "winnerName\n",
       "Deskovka                                                            2.022001\n",
       "Poukaz do fitka                                                     1.969880\n",
       "Obálka s hotovostí                                                  1.955720\n",
       "Ponožky                                                             1.955063\n",
       "Svetr                                                               1.906769\n",
       "Předplatné streamovací platformy                                    1.883432\n",
       "Sada šroubovacích bitů nebo podobná kutilská drobnost               1.876351\n",
       "Poukaz do kina                                                      1.872659\n",
       "Poukaz na lekce jógy                                                1.851608\n",
       "Poukaz do sauny                                                     1.849020\n",
       "Pánvička nebo kastrůlek                                             1.840210\n",
       "Kapesní diář na rok 2024                                            1.810099\n",
       "Několik piv z malých pivovarů                                       1.801024\n",
       "Poukaz na divadelní představení dle vlastního výběru                1.762494\n",
       "Štěně                                                               1.761290\n",
       "Powerbanka                                                          1.760207\n",
       "Poukaz do supermarketu                                              1.748074\n",
       "Poukaz do knihkupectví                                              1.746744\n",
       "Strojek pro mokré holení                                            1.741259\n",
       "Šála                                                                1.739336\n",
       "Drobnost, kterou jste v poslední době ztratili (nožík, termoska)    1.721359\n",
       "Kvalitní káva                                                       1.709438\n",
       "Vstupenka na konkrétní divadelní představení                        1.702677\n",
       "Poukaz na profesionální masáž                                       1.687467\n",
       "Dárkový balíček kosmetiky                                           1.657931\n",
       "Čokoláda nebo bonboniéra                                            1.650643\n",
       "Poukázka do řetězce s oblečením                                     1.645963\n",
       "Kniha                                                               1.630259\n",
       "Poukaz na jízdu vlakem                                              1.620652\n",
       "Poukaz na návštěvu památky v okolí                                  1.580084\n",
       "Humorné tričko                                                      1.574946\n",
       "Předplatné časopisu                                                 1.574946\n",
       "Čelovka                                                             1.567909\n",
       "Náhrdelník nebo jiný šperk                                          1.473723\n",
       "Lahev vína                                                          1.462627\n",
       "Kalendář s fotografiemi vašich blízkých                             1.449904\n",
       "dtype: float64"
      ]
     },
     "execution_count": 19,
     "metadata": {},
     "output_type": "execute_result"
    }
   ],
   "source": [
    "stari_mladi.nlargest(n)"
   ]
  },
  {
   "cell_type": "code",
   "execution_count": 20,
   "id": "e343c39b",
   "metadata": {},
   "outputs": [
    {
     "data": {
      "text/plain": [
       "winnerName\n",
       "Kniha                                                               4030\n",
       "Poukaz do knihkupectví                                              3890\n",
       "Deskovka                                                            3860\n",
       "Poukaz na divadelní představení dle vlastního výběru                3844\n",
       "Obálka s hotovostí                                                  3710\n",
       "Vstupenka na konkrétní divadelní představení                        3562\n",
       "Drobnost, kterou jste v poslední době ztratili (nožík, termoska)    3546\n",
       "Poukaz do kina                                                      3500\n",
       "Poukaz na profesionální masáž                                       3245\n",
       "Kvalitní káva                                                       3224\n",
       "Ponožky                                                             3089\n",
       "Poukaz na návštěvu památky v okolí                                  2999\n",
       "Svetr                                                               2986\n",
       "Poukaz na jízdu vlakem                                              2982\n",
       "Předplatné streamovací platformy                                    2876\n",
       "Poukaz do sauny                                                     2829\n",
       "Několik piv z malých pivovarů                                       2815\n",
       "Pánvička nebo kastrůlek                                             2810\n",
       "Sada šroubovacích bitů nebo podobná kutilská drobnost               2777\n",
       "Powerbanka                                                          2716\n",
       "Poukázka do řetězce s oblečením                                     2650\n",
       "Lahev vína                                                          2583\n",
       "Šála                                                                2569\n",
       "Čelovka                                                             2482\n",
       "Čokoláda nebo bonboniéra                                            2438\n",
       "Dárkový balíček kosmetiky                                           2404\n",
       "Kalendář s fotografiemi vašich blízkých                             2272\n",
       "Poukaz do supermarketu                                              2269\n",
       "Poukaz na lekce jógy                                                2246\n",
       "Předplatné časopisu                                                 2175\n",
       "Humorné tričko                                                      2175\n",
       "Náhrdelník nebo jiný šperk                                          1991\n",
       "Poukaz do fitka                                                     1962\n",
       "Kapesní diář na rok 2024                                            1649\n",
       "Strojek pro mokré holení                                            1494\n",
       "Štěně                                                               1092\n",
       "dtype: int64"
      ]
     },
     "execution_count": 20,
     "metadata": {},
     "output_type": "execute_result"
    }
   ],
   "source": [
    "df[(df['age'] == 'a1') | (df['age'] == 'a2')].groupby(\"winnerName\").size().nlargest(n)"
   ]
  },
  {
   "cell_type": "code",
   "execution_count": 21,
   "id": "5622cc66",
   "metadata": {},
   "outputs": [
    {
     "data": {
      "text/plain": [
       "winnerName\n",
       "Kniha                                                               2472\n",
       "Poukaz do knihkupectví                                              2227\n",
       "Poukaz na divadelní představení dle vlastního výběru                2181\n",
       "Vstupenka na konkrétní divadelní představení                        2092\n",
       "Drobnost, kterou jste v poslední době ztratili (nožík, termoska)    2060\n",
       "Poukaz na profesionální masáž                                       1923\n",
       "Deskovka                                                            1909\n",
       "Poukaz na návštěvu památky v okolí                                  1898\n",
       "Obálka s hotovostí                                                  1897\n",
       "Kvalitní káva                                                       1886\n",
       "Poukaz do kina                                                      1869\n",
       "Poukaz na jízdu vlakem                                              1840\n",
       "Lahev vína                                                          1766\n",
       "Poukázka do řetězce s oblečením                                     1610\n",
       "Čelovka                                                             1583\n",
       "Ponožky                                                             1580\n",
       "Kalendář s fotografiemi vašich blízkých                             1567\n",
       "Svetr                                                               1566\n",
       "Několik piv z malých pivovarů                                       1563\n",
       "Powerbanka                                                          1543\n",
       "Poukaz do sauny                                                     1530\n",
       "Pánvička nebo kastrůlek                                             1527\n",
       "Předplatné streamovací platformy                                    1527\n",
       "Sada šroubovacích bitů nebo podobná kutilská drobnost               1480\n",
       "Šála                                                                1477\n",
       "Čokoláda nebo bonboniéra                                            1477\n",
       "Dárkový balíček kosmetiky                                           1450\n",
       "Předplatné časopisu                                                 1381\n",
       "Humorné tričko                                                      1381\n",
       "Náhrdelník nebo jiný šperk                                          1351\n",
       "Poukaz do supermarketu                                              1298\n",
       "Poukaz na lekce jógy                                                1213\n",
       "Poukaz do fitka                                                      996\n",
       "Kapesní diář na rok 2024                                             911\n",
       "Strojek pro mokré holení                                             858\n",
       "Štěně                                                                620\n",
       "dtype: int64"
      ]
     },
     "execution_count": 21,
     "metadata": {},
     "output_type": "execute_result"
    }
   ],
   "source": [
    "df[(df['age'] == 'a3') | (df['age'] == 'a4')].groupby(\"winnerName\").size().nlargest(n)"
   ]
  },
  {
   "cell_type": "code",
   "execution_count": 45,
   "id": "610b85f6",
   "metadata": {},
   "outputs": [
    {
     "data": {
      "text/plain": [
       "winnerName\n",
       "Deskovka                         11\n",
       "Kvalitní káva                     8\n",
       "Několik piv z malých pivovarů     8\n",
       "dtype: int64"
      ]
     },
     "execution_count": 45,
     "metadata": {},
     "output_type": "execute_result"
    }
   ],
   "source": [
    "df[(df['age'] == 'a1') & (df['loserName'] == 'Obálka s hotovostí')].groupby(\"winnerName\").size().nlargest(3)"
   ]
  },
  {
   "cell_type": "code",
   "execution_count": 48,
   "id": "64295ec7",
   "metadata": {},
   "outputs": [
    {
     "data": {
      "text/plain": [
       "loserName\n",
       "Kvalitní káva                                            5\n",
       "Poukaz na jízdu vlakem                                   6\n",
       "Deskovka                                                 8\n",
       "Poukaz na divadelní představení dle vlastního výběru     8\n",
       "Svetr                                                    8\n",
       "Dárkový balíček kosmetiky                                9\n",
       "Kniha                                                    9\n",
       "Poukaz do knihkupectví                                  10\n",
       "Předplatné streamovací platformy                        10\n",
       "Vstupenka na konkrétní divadelní představení            10\n",
       "dtype: int64"
      ]
     },
     "execution_count": 48,
     "metadata": {},
     "output_type": "execute_result"
    }
   ],
   "source": [
    "df[(df['age'] == 'a1') & (df['winnerName'] == 'Obálka s hotovostí')].groupby(\"loserName\").size().nsmallest(10)"
   ]
  },
  {
   "cell_type": "code",
   "execution_count": 22,
   "id": "4bfd42b7",
   "metadata": {},
   "outputs": [
    {
     "data": {
      "text/plain": [
       "winnerName\n",
       "Obálka s hotovostí                                                  451\n",
       "Poukaz do knihkupectví                                              425\n",
       "Poukaz na divadelní představení dle vlastního výběru                422\n",
       "Poukaz do kina                                                      405\n",
       "Drobnost, kterou jste v poslední době ztratili (nožík, termoska)    402\n",
       "Kniha                                                               398\n",
       "Vstupenka na konkrétní divadelní představení                        384\n",
       "Poukaz na jízdu vlakem                                              366\n",
       "Svetr                                                               359\n",
       "Deskovka                                                            333\n",
       "Powerbanka                                                          323\n",
       "Šála                                                                316\n",
       "Ponožky                                                             315\n",
       "Poukázka do řetězce s oblečením                                     311\n",
       "Kvalitní káva                                                       309\n",
       "Poukaz na návštěvu památky v okolí                                  293\n",
       "Předplatné streamovací platformy                                    284\n",
       "Lahev vína                                                          282\n",
       "Sada šroubovacích bitů nebo podobná kutilská drobnost               281\n",
       "Poukaz do supermarketu                                              278\n",
       "Čokoláda nebo bonboniéra                                            266\n",
       "Náhrdelník nebo jiný šperk                                          262\n",
       "Dárkový balíček kosmetiky                                           260\n",
       "Pánvička nebo kastrůlek                                             258\n",
       "Poukaz do sauny                                                     258\n",
       "Poukaz na profesionální masáž                                       253\n",
       "Čelovka                                                             249\n",
       "Několik piv z malých pivovarů                                       248\n",
       "Předplatné časopisu                                                 221\n",
       "Humorné tričko                                                      221\n",
       "Kalendář s fotografiemi vašich blízkých                             213\n",
       "Kapesní diář na rok 2024                                            206\n",
       "Poukaz do fitka                                                     201\n",
       "Poukaz na lekce jógy                                                188\n",
       "Štěně                                                               179\n",
       "Strojek pro mokré holení                                            172\n",
       "dtype: int64"
      ]
     },
     "execution_count": 22,
     "metadata": {},
     "output_type": "execute_result"
    }
   ],
   "source": [
    "df[df['age'] == 'a1'].groupby(\"winnerName\").size().nlargest(n)"
   ]
  },
  {
   "cell_type": "code",
   "execution_count": 23,
   "id": "3d0eeae7",
   "metadata": {},
   "outputs": [
    {
     "data": {
      "text/plain": [
       "winnerName\n",
       "Kniha                                                               3632\n",
       "Deskovka                                                            3527\n",
       "Poukaz do knihkupectví                                              3465\n",
       "Poukaz na divadelní představení dle vlastního výběru                3422\n",
       "Obálka s hotovostí                                                  3259\n",
       "Vstupenka na konkrétní divadelní představení                        3178\n",
       "Drobnost, kterou jste v poslední době ztratili (nožík, termoska)    3144\n",
       "Poukaz do kina                                                      3095\n",
       "Poukaz na profesionální masáž                                       2992\n",
       "Kvalitní káva                                                       2915\n",
       "Ponožky                                                             2774\n",
       "Poukaz na návštěvu památky v okolí                                  2706\n",
       "Svetr                                                               2627\n",
       "Poukaz na jízdu vlakem                                              2616\n",
       "Předplatné streamovací platformy                                    2592\n",
       "Poukaz do sauny                                                     2571\n",
       "Několik piv z malých pivovarů                                       2567\n",
       "Pánvička nebo kastrůlek                                             2552\n",
       "Sada šroubovacích bitů nebo podobná kutilská drobnost               2496\n",
       "Powerbanka                                                          2393\n",
       "Poukázka do řetězce s oblečením                                     2339\n",
       "Lahev vína                                                          2301\n",
       "Šála                                                                2253\n",
       "Čelovka                                                             2233\n",
       "Čokoláda nebo bonboniéra                                            2172\n",
       "Dárkový balíček kosmetiky                                           2144\n",
       "Kalendář s fotografiemi vašich blízkých                             2059\n",
       "Poukaz na lekce jógy                                                2058\n",
       "Poukaz do supermarketu                                              1991\n",
       "Předplatné časopisu                                                 1954\n",
       "Humorné tričko                                                      1954\n",
       "Poukaz do fitka                                                     1761\n",
       "Náhrdelník nebo jiný šperk                                          1729\n",
       "Kapesní diář na rok 2024                                            1443\n",
       "Strojek pro mokré holení                                            1322\n",
       "Štěně                                                                913\n",
       "dtype: int64"
      ]
     },
     "execution_count": 23,
     "metadata": {},
     "output_type": "execute_result"
    }
   ],
   "source": [
    "df[df['age'] == 'a2'].groupby(\"winnerName\").size().nlargest(n)"
   ]
  },
  {
   "cell_type": "code",
   "execution_count": 24,
   "id": "6e9ee107",
   "metadata": {},
   "outputs": [
    {
     "data": {
      "text/plain": [
       "winnerName\n",
       "Kniha                                                               2302\n",
       "Poukaz do knihkupectví                                              2062\n",
       "Poukaz na divadelní představení dle vlastního výběru                2031\n",
       "Vstupenka na konkrétní divadelní představení                        1938\n",
       "Drobnost, kterou jste v poslední době ztratili (nožík, termoska)    1912\n",
       "Deskovka                                                            1818\n",
       "Poukaz na profesionální masáž                                       1804\n",
       "Obálka s hotovostí                                                  1767\n",
       "Poukaz do kina                                                      1760\n",
       "Poukaz na návštěvu památky v okolí                                  1747\n",
       "Kvalitní káva                                                       1733\n",
       "Poukaz na jízdu vlakem                                              1714\n",
       "Lahev vína                                                          1634\n",
       "Čelovka                                                             1496\n",
       "Poukázka do řetězce s oblečením                                     1486\n",
       "Ponožky                                                             1483\n",
       "Několik piv z malých pivovarů                                       1478\n",
       "Poukaz do sauny                                                     1469\n",
       "Předplatné streamovací platformy                                    1469\n",
       "Kalendář s fotografiemi vašich blízkých                             1450\n",
       "Svetr                                                               1443\n",
       "Powerbanka                                                          1428\n",
       "Pánvička nebo kastrůlek                                             1412\n",
       "Šála                                                                1389\n",
       "Sada šroubovacích bitů nebo podobná kutilská drobnost               1371\n",
       "Čokoláda nebo bonboniéra                                            1346\n",
       "Dárkový balíček kosmetiky                                           1325\n",
       "Humorné tričko                                                      1304\n",
       "Předplatné časopisu                                                 1304\n",
       "Náhrdelník nebo jiný šperk                                          1245\n",
       "Poukaz do supermarketu                                              1197\n",
       "Poukaz na lekce jógy                                                1161\n",
       "Poukaz do fitka                                                      943\n",
       "Strojek pro mokré holení                                             814\n",
       "Kapesní diář na rok 2024                                             796\n",
       "Štěně                                                                556\n",
       "dtype: int64"
      ]
     },
     "execution_count": 24,
     "metadata": {},
     "output_type": "execute_result"
    }
   ],
   "source": [
    "df[df['age'] == 'a3'].groupby(\"winnerName\").size().nlargest(36)"
   ]
  },
  {
   "cell_type": "code",
   "execution_count": 25,
   "id": "597e0a6d",
   "metadata": {},
   "outputs": [
    {
     "data": {
      "text/plain": [
       "winnerName\n",
       "Kniha                                                               170\n",
       "Poukaz do knihkupectví                                              165\n",
       "Vstupenka na konkrétní divadelní představení                        154\n",
       "Kvalitní káva                                                       153\n",
       "Poukaz na návštěvu památky v okolí                                  151\n",
       "Poukaz na divadelní představení dle vlastního výběru                150\n",
       "Drobnost, kterou jste v poslední době ztratili (nožík, termoska)    148\n",
       "Lahev vína                                                          132\n",
       "Čokoláda nebo bonboniéra                                            131\n",
       "Obálka s hotovostí                                                  130\n",
       "Poukaz na jízdu vlakem                                              126\n",
       "Dárkový balíček kosmetiky                                           125\n",
       "Poukázka do řetězce s oblečením                                     124\n",
       "Svetr                                                               123\n",
       "Poukaz na profesionální masáž                                       119\n",
       "Kalendář s fotografiemi vašich blízkých                             117\n",
       "Powerbanka                                                          115\n",
       "Kapesní diář na rok 2024                                            115\n",
       "Pánvička nebo kastrůlek                                             115\n",
       "Poukaz do kina                                                      109\n",
       "Sada šroubovacích bitů nebo podobná kutilská drobnost               109\n",
       "Náhrdelník nebo jiný šperk                                          106\n",
       "Poukaz do supermarketu                                              101\n",
       "Ponožky                                                              97\n",
       "Deskovka                                                             91\n",
       "Šála                                                                 88\n",
       "Čelovka                                                              87\n",
       "Několik piv z malých pivovarů                                        85\n",
       "Předplatné časopisu                                                  77\n",
       "Humorné tričko                                                       77\n",
       "Štěně                                                                64\n",
       "Poukaz do sauny                                                      61\n",
       "Předplatné streamovací platformy                                     58\n",
       "Poukaz do fitka                                                      53\n",
       "Poukaz na lekce jógy                                                 52\n",
       "Strojek pro mokré holení                                             44\n",
       "dtype: int64"
      ]
     },
     "execution_count": 25,
     "metadata": {},
     "output_type": "execute_result"
    }
   ],
   "source": [
    "df[df['age'] == 'a4'].groupby(\"winnerName\").size().nlargest(36)"
   ]
  },
  {
   "cell_type": "code",
   "execution_count": 26,
   "id": "173b91ca",
   "metadata": {},
   "outputs": [
    {
     "data": {
      "text/plain": [
       "winnerName\n",
       "Předplatné streamovací platformy                                    4.896552\n",
       "Poukaz do sauny                                                     4.229508\n",
       "Strojek pro mokré holení                                            3.909091\n",
       "Poukaz do fitka                                                     3.792453\n",
       "Poukaz do kina                                                      3.715596\n",
       "Deskovka                                                            3.659341\n",
       "Poukaz na lekce jógy                                                3.615385\n",
       "Šála                                                                3.590909\n",
       "Obálka s hotovostí                                                  3.469231\n",
       "Ponožky                                                             3.247423\n",
       "Svetr                                                               2.918699\n",
       "Několik piv z malých pivovarů                                       2.917647\n",
       "Poukaz na jízdu vlakem                                              2.904762\n",
       "Předplatné časopisu                                                 2.870130\n",
       "Humorné tričko                                                      2.870130\n",
       "Čelovka                                                             2.862069\n",
       "Poukaz na divadelní představení dle vlastního výběru                2.813333\n",
       "Powerbanka                                                          2.808696\n",
       "Štěně                                                               2.796875\n",
       "Poukaz do supermarketu                                              2.752475\n",
       "Drobnost, kterou jste v poslední době ztratili (nožík, termoska)    2.716216\n",
       "Sada šroubovacích bitů nebo podobná kutilská drobnost               2.577982\n",
       "Poukaz do knihkupectví                                              2.575758\n",
       "Poukázka do řetězce s oblečením                                     2.508065\n",
       "Vstupenka na konkrétní divadelní představení                        2.493506\n",
       "Náhrdelník nebo jiný šperk                                          2.471698\n",
       "Kniha                                                               2.341176\n",
       "Pánvička nebo kastrůlek                                             2.243478\n",
       "Lahev vína                                                          2.136364\n",
       "Poukaz na profesionální masáž                                       2.126050\n",
       "Dárkový balíček kosmetiky                                           2.080000\n",
       "Čokoláda nebo bonboniéra                                            2.030534\n",
       "Kvalitní káva                                                       2.019608\n",
       "Poukaz na návštěvu památky v okolí                                  1.940397\n",
       "Kalendář s fotografiemi vašich blízkých                             1.820513\n",
       "Kapesní diář na rok 2024                                            1.791304\n",
       "dtype: float64"
      ]
     },
     "execution_count": 26,
     "metadata": {},
     "output_type": "execute_result"
    }
   ],
   "source": [
    "(df[df['age'] == 'a1'].groupby(\"winnerName\").size() / df[df['age'] == 'a4'].groupby(\"winnerName\").size()).nlargest(36)"
   ]
  },
  {
   "cell_type": "code",
   "execution_count": 27,
   "id": "616e9b0d",
   "metadata": {},
   "outputs": [
    {
     "data": {
      "text/plain": [
       "1947974"
      ]
     },
     "execution_count": 27,
     "metadata": {},
     "output_type": "execute_result"
    }
   ],
   "source": [
    "df[df['city'] == \"Prague\"].size"
   ]
  },
  {
   "cell_type": "code",
   "execution_count": 28,
   "id": "f2ee8dac",
   "metadata": {},
   "outputs": [
    {
     "data": {
      "text/plain": [
       "1830808"
      ]
     },
     "execution_count": 28,
     "metadata": {},
     "output_type": "execute_result"
    }
   ],
   "source": [
    "df[df['city'] != \"Prague\"].size"
   ]
  },
  {
   "cell_type": "code",
   "execution_count": 29,
   "id": "34e074e6",
   "metadata": {},
   "outputs": [
    {
     "data": {
      "text/plain": [
       "winnerName\n",
       "Několik piv z malých pivovarů                                       1.126597\n",
       "Strojek pro mokré holení                                            1.108177\n",
       "Poukaz do fitka                                                     1.105987\n",
       "Předplatné streamovací platformy                                    1.090605\n",
       "Poukaz na divadelní představení dle vlastního výběru                1.087242\n",
       "Šála                                                                1.084352\n",
       "Sada šroubovacích bitů nebo podobná kutilská drobnost               1.083939\n",
       "Powerbanka                                                          1.083573\n",
       "Čelovka                                                             1.081073\n",
       "Deskovka                                                            1.081069\n",
       "Poukaz na jízdu vlakem                                              1.080710\n",
       "Ponožky                                                             1.079979\n",
       "Lahev vína                                                          1.078636\n",
       "Pánvička nebo kastrůlek                                             1.077664\n",
       "Kvalitní káva                                                       1.075591\n",
       "Drobnost, kterou jste v poslední době ztratili (nožík, termoska)    1.075222\n",
       "Poukaz do kina                                                      1.073171\n",
       "Vstupenka na konkrétní divadelní představení                        1.072059\n",
       "Štěně                                                               1.070831\n",
       "Obálka s hotovostí                                                  1.070767\n",
       "Svetr                                                               1.066737\n",
       "Kniha                                                               1.066175\n",
       "Poukázka do řetězce s oblečením                                     1.062500\n",
       "Kapesní diář na rok 2024                                            1.060525\n",
       "Poukaz do knihkupectví                                              1.059897\n",
       "Humorné tričko                                                      1.055288\n",
       "Předplatné časopisu                                                 1.055288\n",
       "Čokoláda nebo bonboniéra                                            1.051366\n",
       "Poukaz do supermarketu                                              1.048354\n",
       "Dárkový balíček kosmetiky                                           1.034959\n",
       "Kalendář s fotografiemi vašich blízkých                             1.025350\n",
       "Náhrdelník nebo jiný šperk                                          1.019212\n",
       "Poukaz do sauny                                                     1.015241\n",
       "Poukaz na návštěvu památky v okolí                                  1.008753\n",
       "Poukaz na lekce jógy                                                1.002548\n",
       "Poukaz na profesionální masáž                                       0.999316\n",
       "dtype: float64"
      ]
     },
     "execution_count": 29,
     "metadata": {},
     "output_type": "execute_result"
    }
   ],
   "source": [
    "(df[df['city'] == 'Prague'].groupby(\"winnerName\").size() / df[df['city'] != 'Prague'].groupby(\"winnerName\").size()).nlargest(36)"
   ]
  },
  {
   "cell_type": "code",
   "execution_count": 30,
   "id": "e449d46c",
   "metadata": {},
   "outputs": [
    {
     "data": {
      "text/plain": [
       "181"
      ]
     },
     "execution_count": 30,
     "metadata": {},
     "output_type": "execute_result"
    }
   ],
   "source": [
    "len(df[(df['loserName'] == \"Poukaz do knihkupectví\") & (df['winnerName'] == 'Kniha')])"
   ]
  },
  {
   "cell_type": "code",
   "execution_count": 31,
   "id": "215c3c35",
   "metadata": {},
   "outputs": [
    {
     "data": {
      "text/plain": [
       "235"
      ]
     },
     "execution_count": 31,
     "metadata": {},
     "output_type": "execute_result"
    }
   ],
   "source": [
    "len(df[(df['winnerName'] == \"Poukaz do knihkupectví\") & (df['loserName'] == 'Kniha')])"
   ]
  },
  {
   "cell_type": "code",
   "execution_count": 32,
   "id": "4bea3d31",
   "metadata": {},
   "outputs": [
    {
     "data": {
      "text/plain": [
       "winnerName\n",
       "Drobnost, kterou jste v poslední době ztratili (nožík, termoska)    205\n",
       "Deskovka                                                            204\n",
       "Vstupenka na konkrétní divadelní představení                        198\n",
       "Poukaz na divadelní představení dle vlastního výběru                193\n",
       "Kniha                                                               181\n",
       "Obálka s hotovostí                                                  181\n",
       "Poukaz na profesionální masáž                                       171\n",
       "Kvalitní káva                                                       164\n",
       "Poukaz na návštěvu památky v okolí                                  144\n",
       "Poukaz na jízdu vlakem                                              142\n",
       "Sada šroubovacích bitů nebo podobná kutilská drobnost               138\n",
       "Lahev vína                                                          138\n",
       "Svetr                                                               129\n",
       "Poukaz do kina                                                      128\n",
       "Ponožky                                                             127\n",
       "Předplatné streamovací platformy                                    125\n",
       "Několik piv z malých pivovarů                                       124\n",
       "Poukaz do sauny                                                     119\n",
       "Pánvička nebo kastrůlek                                             117\n",
       "Kalendář s fotografiemi vašich blízkých                             106\n",
       "Powerbanka                                                          104\n",
       "Čokoláda nebo bonboniéra                                            101\n",
       "Šála                                                                101\n",
       "Náhrdelník nebo jiný šperk                                          101\n",
       "Poukaz na lekce jógy                                                100\n",
       "Čelovka                                                              94\n",
       "Dárkový balíček kosmetiky                                            90\n",
       "Poukázka do řetězce s oblečením                                      85\n",
       "Humorné tričko                                                       84\n",
       "Předplatné časopisu                                                  84\n",
       "Poukaz do supermarketu                                               76\n",
       "Štěně                                                                71\n",
       "Poukaz do fitka                                                      69\n",
       "Strojek pro mokré holení                                             66\n",
       "Kapesní diář na rok 2024                                             59\n",
       "dtype: int64"
      ]
     },
     "execution_count": 32,
     "metadata": {},
     "output_type": "execute_result"
    }
   ],
   "source": [
    "df[df['loserName'] == \"Poukaz do knihkupectví\"].groupby('winnerName').size().nlargest(200)"
   ]
  },
  {
   "cell_type": "code",
   "execution_count": 33,
   "id": "6668b61b",
   "metadata": {},
   "outputs": [
    {
     "data": {
      "text/plain": [
       "winnerName\n",
       "Poukaz do knihkupectví                                              235\n",
       "Poukaz na divadelní představení dle vlastního výběru                188\n",
       "Poukaz na profesionální masáž                                       173\n",
       "Vstupenka na konkrétní divadelní představení                        170\n",
       "Obálka s hotovostí                                                  168\n",
       "Kvalitní káva                                                       157\n",
       "Drobnost, kterou jste v poslední době ztratili (nožík, termoska)    148\n",
       "Deskovka                                                            147\n",
       "Poukaz na návštěvu památky v okolí                                  132\n",
       "Poukaz na jízdu vlakem                                              127\n",
       "Poukaz do kina                                                      125\n",
       "Několik piv z malých pivovarů                                       121\n",
       "Sada šroubovacích bitů nebo podobná kutilská drobnost               117\n",
       "Poukaz do sauny                                                     113\n",
       "Svetr                                                               110\n",
       "Lahev vína                                                          109\n",
       "Ponožky                                                             107\n",
       "Čelovka                                                             107\n",
       "Čokoláda nebo bonboniéra                                            104\n",
       "Předplatné streamovací platformy                                    102\n",
       "Powerbanka                                                          101\n",
       "Pánvička nebo kastrůlek                                              97\n",
       "Poukázka do řetězce s oblečením                                      94\n",
       "Poukaz na lekce jógy                                                 91\n",
       "Poukaz do supermarketu                                               91\n",
       "Kalendář s fotografiemi vašich blízkých                              90\n",
       "Náhrdelník nebo jiný šperk                                           89\n",
       "Šála                                                                 83\n",
       "Předplatné časopisu                                                  80\n",
       "Humorné tričko                                                       80\n",
       "Poukaz do fitka                                                      75\n",
       "Dárkový balíček kosmetiky                                            74\n",
       "Štěně                                                                61\n",
       "Kapesní diář na rok 2024                                             57\n",
       "Strojek pro mokré holení                                             53\n",
       "dtype: int64"
      ]
     },
     "execution_count": 33,
     "metadata": {},
     "output_type": "execute_result"
    }
   ],
   "source": [
    "df[df['loserName'] == \"Kniha\"].groupby('winnerName').size().nlargest(200)"
   ]
  },
  {
   "cell_type": "code",
   "execution_count": 34,
   "id": "1e96a3fc",
   "metadata": {},
   "outputs": [
    {
     "data": {
      "text/plain": [
       "winnerName\n",
       "Obálka s hotovostí                                                  307\n",
       "Poukaz na divadelní představení dle vlastního výběru                287\n",
       "Poukaz do knihkupectví                                              286\n",
       "Poukaz do kina                                                      283\n",
       "Drobnost, kterou jste v poslední době ztratili (nožík, termoska)    270\n",
       "Kniha                                                               263\n",
       "Poukaz na jízdu vlakem                                              254\n",
       "Vstupenka na konkrétní divadelní představení                        252\n",
       "Svetr                                                               238\n",
       "Šála                                                                230\n",
       "Ponožky                                                             213\n",
       "Poukázka do řetězce s oblečením                                     212\n",
       "Powerbanka                                                          207\n",
       "Kvalitní káva                                                       206\n",
       "Sada šroubovacích bitů nebo podobná kutilská drobnost               204\n",
       "Deskovka                                                            204\n",
       "Lahev vína                                                          198\n",
       "Poukaz na návštěvu památky v okolí                                  195\n",
       "Čokoláda nebo bonboniéra                                            180\n",
       "Předplatné streamovací platformy                                    178\n",
       "Několik piv z malých pivovarů                                       177\n",
       "Čelovka                                                             175\n",
       "Pánvička nebo kastrůlek                                             174\n",
       "Dárkový balíček kosmetiky                                           168\n",
       "Poukaz do supermarketu                                              167\n",
       "Poukaz na profesionální masáž                                       160\n",
       "Poukaz do sauny                                                     160\n",
       "Kapesní diář na rok 2024                                            152\n",
       "Náhrdelník nebo jiný šperk                                          148\n",
       "Předplatné časopisu                                                 141\n",
       "Humorné tričko                                                      141\n",
       "Strojek pro mokré holení                                            133\n",
       "Kalendář s fotografiemi vašich blízkých                             132\n",
       "Štěně                                                               118\n",
       "Poukaz do fitka                                                     116\n",
       "Poukaz na lekce jógy                                                 99\n",
       "dtype: int64"
      ]
     },
     "execution_count": 34,
     "metadata": {},
     "output_type": "execute_result"
    }
   ],
   "source": [
    "df[(df['age'] == 'a1') & (df['sex'] == 'm')].groupby(\"winnerName\").size().nlargest(36)"
   ]
  },
  {
   "cell_type": "code",
   "execution_count": 35,
   "id": "47ada8e9",
   "metadata": {},
   "outputs": [
    {
     "data": {
      "text/plain": [
       "winnerName\n",
       "Obálka s hotovostí                                                  142\n",
       "Poukaz do knihkupectví                                              135\n",
       "Poukaz na divadelní představení dle vlastního výběru                134\n",
       "Kniha                                                               133\n",
       "Drobnost, kterou jste v poslední době ztratili (nožík, termoska)    131\n",
       "Vstupenka na konkrétní divadelní představení                        129\n",
       "Deskovka                                                            126\n",
       "Svetr                                                               119\n",
       "Poukaz do kina                                                      119\n",
       "Powerbanka                                                          116\n",
       "Náhrdelník nebo jiný šperk                                          114\n",
       "Poukaz do supermarketu                                              111\n",
       "Poukaz na jízdu vlakem                                              110\n",
       "Předplatné streamovací platformy                                    106\n",
       "Kvalitní káva                                                       102\n",
       "Ponožky                                                             102\n",
       "Poukázka do řetězce s oblečením                                      98\n",
       "Poukaz na návštěvu památky v okolí                                   98\n",
       "Poukaz do sauny                                                      96\n",
       "Poukaz na profesionální masáž                                        92\n",
       "Dárkový balíček kosmetiky                                            91\n",
       "Poukaz na lekce jógy                                                 87\n",
       "Šála                                                                 86\n",
       "Poukaz do fitka                                                      85\n",
       "Lahev vína                                                           84\n",
       "Čokoláda nebo bonboniéra                                             84\n",
       "Pánvička nebo kastrůlek                                              83\n",
       "Kalendář s fotografiemi vašich blízkých                              80\n",
       "Humorné tričko                                                       79\n",
       "Předplatné časopisu                                                  79\n",
       "Sada šroubovacích bitů nebo podobná kutilská drobnost                76\n",
       "Čelovka                                                              74\n",
       "Několik piv z malých pivovarů                                        71\n",
       "Štěně                                                                61\n",
       "Kapesní diář na rok 2024                                             54\n",
       "Strojek pro mokré holení                                             39\n",
       "dtype: int64"
      ]
     },
     "execution_count": 35,
     "metadata": {},
     "output_type": "execute_result"
    }
   ],
   "source": [
    "df[(df['age'] == 'a1') & (df['sex'] == 'f')].groupby(\"winnerName\").size().nlargest(36)"
   ]
  },
  {
   "cell_type": "markdown",
   "id": "8423b169",
   "metadata": {},
   "source": [
    "## Podle regionu"
   ]
  },
  {
   "cell_type": "code",
   "execution_count": 36,
   "id": "9059879f",
   "metadata": {},
   "outputs": [
    {
     "data": {
      "text/plain": [
       "winnerName\n",
       "Powerbanka                                                          17.877285\n",
       "Vstupenka na konkrétní divadelní představení                        16.325540\n",
       "Několik piv z malých pivovarů                                       15.875576\n",
       "Poukaz do kina                                                      15.811460\n",
       "Poukaz na divadelní představení dle vlastního výběru                15.697933\n",
       "Předplatné streamovací platformy                                    15.627494\n",
       "Šála                                                                15.338785\n",
       "Deskovka                                                            15.311755\n",
       "Dárkový balíček kosmetiky                                           15.224939\n",
       "Strojek pro mokré holení                                            15.214844\n",
       "Lahev vína                                                          15.208791\n",
       "Ponožky                                                             15.044355\n",
       "Kniha                                                               15.012857\n",
       "Poukaz do knihkupectví                                              14.832317\n",
       "Pánvička nebo kastrůlek                                             14.831533\n",
       "Čokoláda nebo bonboniéra                                            14.666667\n",
       "Obálka s hotovostí                                                  14.602990\n",
       "Čelovka                                                             14.551802\n",
       "Štěně                                                               14.461538\n",
       "Náhrdelník nebo jiný šperk                                          14.425373\n",
       "Sada šroubovacích bitů nebo podobná kutilská drobnost               14.350446\n",
       "Poukaz na návštěvu památky v okolí                                  14.244165\n",
       "Kapesní diář na rok 2024                                            14.180328\n",
       "Poukaz na profesionální masáž                                       14.141623\n",
       "Kvalitní káva                                                       14.083333\n",
       "Humorné tričko                                                      13.888060\n",
       "Předplatné časopisu                                                 13.888060\n",
       "Svetr                                                               13.869565\n",
       "Drobnost, kterou jste v poslední době ztratili (nožík, termoska)    13.795981\n",
       "Poukaz na jízdu vlakem                                              13.686067\n",
       "Kalendář s fotografiemi vašich blízkých                             13.604301\n",
       "Poukázka do řetězce s oblečením                                     12.951737\n",
       "Poukaz do supermarketu                                              12.826389\n",
       "Poukaz do sauny                                                     12.753650\n",
       "Poukaz na lekce jógy                                                12.127349\n",
       "Poukaz do fitka                                                     12.113350\n",
       "dtype: float64"
      ]
     },
     "execution_count": 36,
     "metadata": {},
     "output_type": "execute_result"
    }
   ],
   "source": [
    "pd.Series(df[df['country'] == 'Czechia'].groupby('winnerName').size() / df[df['country'] != 'Czechia'].groupby('winnerName').size()).nlargest(n)"
   ]
  },
  {
   "cell_type": "code",
   "execution_count": 37,
   "id": "9d564e3a",
   "metadata": {},
   "outputs": [
    {
     "data": {
      "text/plain": [
       "winnerName\n",
       "Poukaz do fitka                                                     1.317590\n",
       "Několik piv z malých pivovarů                                       1.289037\n",
       "Strojek pro mokré holení                                            1.273789\n",
       "Poukaz na jízdu vlakem                                              1.259098\n",
       "Sada šroubovacích bitů nebo podobná kutilská drobnost               1.254208\n",
       "Drobnost, kterou jste v poslední době ztratili (nožík, termoska)    1.250630\n",
       "Čelovka                                                             1.248086\n",
       "Předplatné streamovací platformy                                    1.247449\n",
       "Kvalitní káva                                                       1.247218\n",
       "Poukázka do řetězce s oblečením                                     1.246818\n",
       "Šála                                                                1.242911\n",
       "Poukaz na divadelní představení dle vlastního výběru                1.242562\n",
       "Ponožky                                                             1.240841\n",
       "Pánvička nebo kastrůlek                                             1.240457\n",
       "Deskovka                                                            1.239163\n",
       "Svetr                                                               1.238938\n",
       "Lahev vína                                                          1.237310\n",
       "Štěně                                                               1.236431\n",
       "Obálka s hotovostí                                                  1.234621\n",
       "Poukaz do supermarketu                                              1.230676\n",
       "Kapesní diář na rok 2024                                            1.227085\n",
       "Humorné tričko                                                      1.224303\n",
       "Předplatné časopisu                                                 1.224303\n",
       "Poukaz do kina                                                      1.224129\n",
       "Kniha                                                               1.224127\n",
       "Poukaz do knihkupectví                                              1.218422\n",
       "Powerbanka                                                          1.218011\n",
       "Vstupenka na konkrétní divadelní představení                        1.217689\n",
       "Čokoláda nebo bonboniéra                                            1.209771\n",
       "Kalendář s fotografiemi vašich blízkých                             1.190443\n",
       "Poukaz do sauny                                                     1.189536\n",
       "Dárkový balíček kosmetiky                                           1.183380\n",
       "Poukaz na lekce jógy                                                1.183014\n",
       "Náhrdelník nebo jiný šperk                                          1.172724\n",
       "Poukaz na návštěvu památky v okolí                                  1.161853\n",
       "Poukaz na profesionální masáž                                       1.151340\n",
       "dtype: float64"
      ]
     },
     "execution_count": 37,
     "metadata": {},
     "output_type": "execute_result"
    }
   ],
   "source": [
    "pd.Series(df[(df['country'] == 'Czechia') & (df['city'] == 'Prague')].groupby('winnerName').size() / pd.Series(df[(df['country'] == 'Czechia') & (df['city'] != 'Prague')].groupby('winnerName').size())).nlargest(n)"
   ]
  },
  {
   "cell_type": "markdown",
   "id": "3b19f33c",
   "metadata": {},
   "source": [
    "## Alkohol"
   ]
  },
  {
   "cell_type": "code",
   "execution_count": 38,
   "id": "bad17a54",
   "metadata": {},
   "outputs": [],
   "source": [
    "alk = [\"Několik piv z malých pivovarů\",\"Lahev vína\"]"
   ]
  },
  {
   "cell_type": "code",
   "execution_count": 39,
   "id": "c5e1200f",
   "metadata": {},
   "outputs": [
    {
     "data": {
      "text/plain": [
       "0.8839285714285714"
      ]
     },
     "execution_count": 39,
     "metadata": {},
     "output_type": "execute_result"
    }
   ],
   "source": [
    "len(df[(df['winnerName'] == alk[0]) & (df['loserName'] == alk[1])]) / len(df[(df['loserName'] == alk[0]) & (df['winnerName'] == alk[1])])"
   ]
  },
  {
   "cell_type": "code",
   "execution_count": 40,
   "id": "2199bec0",
   "metadata": {},
   "outputs": [
    {
     "data": {
      "text/plain": [
       "1.373134328358209"
      ]
     },
     "execution_count": 40,
     "metadata": {},
     "output_type": "execute_result"
    }
   ],
   "source": [
    "len(df[(df['winnerName'] == alk[0]) & (df['loserName'] == alk[1]) & (df['sex'] == 'm')]) / len(df[(df['loserName'] == alk[0]) & (df['winnerName'] == alk[1]) & (df['sex'] == 'm')])"
   ]
  },
  {
   "cell_type": "code",
   "execution_count": 43,
   "id": "de06435d",
   "metadata": {},
   "outputs": [
    {
     "data": {
      "text/plain": [
       "0.5142857142857142"
      ]
     },
     "execution_count": 43,
     "metadata": {},
     "output_type": "execute_result"
    }
   ],
   "source": [
    "len(df[(df['winnerName'] == alk[0]) & (df['loserName'] == alk[1]) & (df['sex'] == 'f')]) / len(df[(df['loserName'] == alk[0]) & (df['winnerName'] == alk[1]) & (df['sex'] == 'f')])"
   ]
  },
  {
   "cell_type": "markdown",
   "id": "1ca1cacc",
   "metadata": {},
   "source": [
    "## Konkrétní dar, nebo obecný kupon?"
   ]
  },
  {
   "cell_type": "code",
   "execution_count": 41,
   "id": "267fb387",
   "metadata": {},
   "outputs": [],
   "source": [
    "pary = [\n",
    "    ['Poukaz do knihkupectví','Kniha'],\n",
    "    ['Poukaz na divadelní představení dle vlastního výběru','Vstupenka na konkrétní divadelní představení']\n",
    "]"
   ]
  },
  {
   "cell_type": "code",
   "execution_count": 42,
   "id": "42740232",
   "metadata": {},
   "outputs": [
    {
     "name": "stdout",
     "output_type": "stream",
     "text": [
      "1.298342541436464\n",
      "3.0265486725663715\n"
     ]
    }
   ],
   "source": [
    "for p in pary:\n",
    "    print(len(df[(df['winnerName'] == p[0]) & (df['loserName'] == p[1])]) / len(df[(df['winnerName'] == p[1]) & (df['loserName'] == p[0])]))\n",
    "    # poukaz vyhral vs. konkretni darek vyhral"
   ]
  }
 ],
 "metadata": {
  "kernelspec": {
   "display_name": "Python 3 (ipykernel)",
   "language": "python",
   "name": "python3"
  },
  "language_info": {
   "codemirror_mode": {
    "name": "ipython",
    "version": 3
   },
   "file_extension": ".py",
   "mimetype": "text/x-python",
   "name": "python",
   "nbconvert_exporter": "python",
   "pygments_lexer": "ipython3",
   "version": "3.11.5"
  }
 },
 "nbformat": 4,
 "nbformat_minor": 5
}
